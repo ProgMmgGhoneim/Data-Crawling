{
 "cells": [
  {
   "cell_type": "code",
   "execution_count": 2,
   "metadata": {},
   "outputs": [
    {
     "ename": "ModuleNotFoundError",
     "evalue": "No module named 'pandas'",
     "output_type": "error",
     "traceback": [
      "\u001b[0;31m---------------------------------------------------------------------------\u001b[0m",
      "\u001b[0;31mModuleNotFoundError\u001b[0m                       Traceback (most recent call last)",
      "\u001b[0;32m<ipython-input-2-baf368f80de7>\u001b[0m in \u001b[0;36m<module>\u001b[0;34m\u001b[0m\n\u001b[0;32m----> 1\u001b[0;31m \u001b[0;32mimport\u001b[0m \u001b[0mpandas\u001b[0m \u001b[0;32mas\u001b[0m \u001b[0mpd\u001b[0m\u001b[0;34m\u001b[0m\u001b[0;34m\u001b[0m\u001b[0m\n\u001b[0m\u001b[1;32m      2\u001b[0m \u001b[0;32mimport\u001b[0m \u001b[0mnumpy\u001b[0m \u001b[0;32mas\u001b[0m \u001b[0mnp\u001b[0m\u001b[0;34m\u001b[0m\u001b[0;34m\u001b[0m\u001b[0m\n",
      "\u001b[0;31mModuleNotFoundError\u001b[0m: No module named 'pandas'"
     ]
    }
   ],
   "source": [
    "import pandas as pd\n",
    "import numpy as np"
   ]
  },
  {
   "cell_type": "code",
   "execution_count": 2,
   "metadata": {},
   "outputs": [],
   "source": [
    "import requests\n",
    "from bs4 import BeautifulSoup\n",
    "from selenium import webdriver"
   ]
  },
  {
   "cell_type": "code",
   "execution_count": 3,
   "metadata": {},
   "outputs": [
    {
     "name": "stdout",
     "output_type": "stream",
     "text": [
      "200 OK\n"
     ]
    }
   ],
   "source": [
    "url ='https://we.akoam.net/cat/156/%D8%A7%D9%84%D8%A3%D9%81%D9%84%D8%A7%D9%85-%D8%A7%D9%84%D8%A7%D8%AC%D9%86%D8%A8%D9%8A%D8%A9'\n",
    "request = requests.get(url)\n",
    "print(request.status_code , request.reason)"
   ]
  },
  {
   "cell_type": "markdown",
   "metadata": {},
   "source": [
    "Scraping"
   ]
  },
  {
   "cell_type": "code",
   "execution_count": 4,
   "metadata": {},
   "outputs": [],
   "source": [
    "home_link=[]\n",
    "film_link_ls =[]\n",
    "films_link =[]\n",
    "download_link_ls=[]\n",
    "D_download_ls=[]\n",
    "def scrap_home(content_soup):\n",
    "    for film in content_soup.find_all('div' ,class_='subject_box shape'):\n",
    "        film_a = film.find('a')\n",
    "        film_link =film_a.get('href') if film_a else None\n",
    "        film_img = film.find('img')\n",
    "        film_image = film_img.get('src') if film_img else None\n",
    "        film_info = film.find('div' ,class_='subject_title')\n",
    "        film_name = film_info.find('h3').get_text(strip=True)\n",
    "        film_details = film_info.find('span').get_text(strip=True)\n",
    "        home_link.append({\n",
    "            'film_link':film_link ,\n",
    "            'film_image':film_image ,\n",
    "            'film_name' :film_name ,\n",
    "            'film_details':film_details\n",
    "        })\n",
    "        film_link_ls.append(film_link)\n",
    "def scrap_film(url):\n",
    "    film_request = requests.get(url)\n",
    "#     print(film_request.status_code , film_request.reason)\n",
    "    film_soup = BeautifulSoup(film_request.content)\n",
    "    film_details = film_soup.find('div',class_='sub_title')\n",
    "    film_name = film_details.find('h1').get_text(strip=True)\n",
    "    for film in film_soup.find_all('div' ,class_='akoam-buttons-group'):   \n",
    "        download_film = film.find('a' ,class_='download_btn')\n",
    "        download_film = download_film.get('href') if download_film else None\n",
    "        download_link_ls.append(download_film)\n",
    "        print(film_name,\"......\",download_film)\n",
    "        driver = webdriver.Chrome('drive/chromedriver.exe')\n",
    "        driver.get(download_film)\n",
    "        x = driver.find_element_by_xpath('//*[@id=\"anon_history\"]/li/div[2]/div/div/a')\n",
    "        link = x.get_attribute(\"href\")\n",
    "        films_link.append({'film_name':film_name ,'direct_link' : link ,'download_link_film' :download_film})\n",
    "        print(link)\n",
    "        driver.close()"
   ]
  },
  {
   "cell_type": "markdown",
   "metadata": {},
   "source": [
    "Crawling"
   ]
  },
  {
   "cell_type": "code",
   "execution_count": 5,
   "metadata": {},
   "outputs": [
    {
     "name": "stdout",
     "output_type": "stream",
     "text": [
      "start scarping .....  https://we.akoam.net/cat/156/%D8%A7%D9%84%D8%A3%D9%81%D9%84%D8%A7%D9%85-%D8%A7%D9%84%D8%A7%D8%AC%D9%86%D8%A8%D9%8A%D8%A9\n",
      "فيلم Night Hunter 2018 مترجم ...... http://go.akoam.net/5d4dd572193ca\n",
      "https://we.akoam.net/download/9727864bdacd/Night-Hunter-2019-1080p-HDRip-akoam-net-mkv\n",
      "فيلم Gwen 2018 مترجم ...... http://go.akoam.net/5d4d85c1be98f\n",
      "https://we.akoam.net/download/a34e26e6c8e7/Gwen-2019-1080p-WEB-DL-akoam-net-mkv\n",
      "فيلم Light Of My Life 2019 مترجم ...... http://go.akoam.net/5d4d7d8e10499\n",
      "https://we.akoam.net/download/212fa71d6eb7/Light-of-My-Life-2019-1080p-WEB-DL-akoam-net-mkv\n",
      "فيلم Rapid Eye Movement 2019 مترجم ...... http://go.akoam.net/5d4d70a995013\n",
      "https://we.akoam.net/download/e8716262ab62/Rapid-Eye-Movement-2019-1080p-WEB-DL-akoam-net-mkv\n",
      "فيلم Nekrotronic 2018 مترجم ...... http://go.akoam.net/5d4d5105aa983\n",
      "https://we.akoam.net/download/67084f9ba3aa/Nekrotronic-2018-1080p-WEB-DL-akoam-net-mkv\n",
      "فيلم Red Joan 2018 مترجم ...... http://go.akoam.net/5d4d33ba25ae2\n",
      "https://we.akoam.net/download/8dd4d569a3ee/Red-Joan-2018-720p-BluRay-akoam-net-mkv\n",
      "فيلم Outlaw King 2018 مترجم ...... http://go.akoam.net/5d4c5aedd0082\n",
      "https://we.akoam.net/download/6e09c22fbecf/Outlaw-King-2018-1080p-WEB-DL-akoam-net-mkv\n",
      "فيلم The Messenger 2019 مترجم ...... http://go.akoam.net/5d4c437daf948\n",
      "https://we.akoam.net/download/27dba59bb2ae/The-Messenger-2019-720P-Bluray-akoam-net-mkv\n",
      "فيلم The Hills Have Eyes II 2007 مترجم ...... http://go.akoam.net/5d4c0d95ac061\n",
      "https://we.akoam.net/download/2c66dc8ee3b4/The-Hills-Have-Eyes-II-2007-720p-BluRay-akoam-net-mkv\n",
      "فيلم The Hills Have Eyes 2006 مترجم ...... http://go.akoam.net/5d4c0c696e544\n",
      "https://we.akoam.net/download/7823416befed/The-Hills-Have-Eyes-2006-720p-BluRay-akoam-net-mkv\n",
      "فيلم One Remains 2019 مترجم ...... http://go.akoam.net/5d4b04bdc3d97\n",
      "https://we.akoam.net/download/cc56b716ddcd/One-Remains-2019-1080p-WEB-DL-akoam-net-mkv\n",
      "فيلم Belong To Us 2018 مترجم ...... http://go.akoam.net/5d4ad83630e20\n",
      "https://we.akoam.net/download/2019647ecc30/Belong-To-Us-2018-1080p-WEB-DL-akoam-net-mkv\n",
      "فيلم Cleavers: Killer Clowns 2019 مترجم ...... http://go.akoam.net/5d4ab05dc89a2\n",
      "https://we.akoam.net/download/0c8c7b3f1892/Cleavers-Killer-Clowns-2019-1080p-WEB-DL-akoam-net-mkv\n",
      "فيلم Defiant 2019 مترجم ...... http://go.akoam.net/5d4aaf32e95c8\n",
      "https://we.akoam.net/download/4f1354ad7204/Defiant-2019-1080p-WEB-DL-akoam-net-mkv\n",
      "فيلم 3Lives 2019 مترجم ...... http://go.akoam.net/5d4aacd9863b8\n",
      "https://we.akoam.net/download/148be15d5171/3-Lives-2019-1080p-WEB-DL-akoam-net-mkv\n",
      "فيلم Aladdin 2019 مترجم ...... http://go.akoam.net/5d49de9982391\n",
      "https://we.akoam.net/download/31ba8bbb05c3/Aladdin-2019-1080p-HDRip-akoam-net-mkv\n",
      "فيلم Aladdin 2019 مترجم ...... http://go.akoam.net/5d49c279dd960\n",
      "https://we.akoam.net/download/799d8231f348/Aladdin-2019-akoam-net-mkv\n",
      "فيلم Pentagram 2019 مترجم ...... http://go.akoam.net/5d4a1de15493c\n",
      "https://we.akoam.net/download/043cb445fb40/Pentagram-2019-1080p-WEB-DL-akoam-net-mkv\n",
      "فيلم A Dog’s Journey 2019 مترجم ...... http://go.akoam.net/5d4a1229c892f\n",
      "https://we.akoam.net/download/026ffe424ee3/A-Dogs-Journey-2019-1080p-WEB-DL-akoam-net-mkv\n",
      "فيلم D-Railed 2018 مترجم ...... http://go.akoam.net/5d49eb7dc6045\n",
      "https://we.akoam.net/download/5fc47b3cb0b9/D-Railed-2018-1080p-WEB-DL-akoam-net-mkv\n",
      "فيلم The Iron Orchard 2018 مترجم ...... http://go.akoam.net/5d49c14ded6f8\n",
      "https://we.akoam.net/download/506f0f11887f/The-Iron-Orchard-2019-1080p-WEB-DL-akoam-net-mkv\n",
      "فيلم Doe 2018 مترجم ...... http://go.akoam.net/5d4987e522713\n",
      "https://we.akoam.net/download/e4b27d10b745/Doe-2018-1080p-WEB-DL-akoam-net-mkv\n",
      "فيلم The Hustle 2019 مترجم ...... http://go.akoam.net/5d4986b58a5fe\n",
      "https://we.akoam.net/download/5313fc84b9de/The-Hustle-2019-1080p-WEB-DL-akoam-net-mkv\n",
      "فيلم The Sun Is Also A Star 2019 مترجم ...... http://go.akoam.net/5d4985899d3e6\n",
      "https://we.akoam.net/download/551949ff5a0d/The-Sun-Is-Also-a-Star-2019-1080p-WEB-DL-akoam-net-mkv\n",
      "فيلم Rocketman 2019 مترجم ...... http://go.akoam.net/5d498331b9f52\n",
      "https://we.akoam.net/download/6f98a01eea5d/Rocketman-2019-1080p-WEB-DL-akoam-net-mkv\n",
      "فيلم Xenophobia 2019 مترجم ...... http://go.akoam.net/5d49820598db5\n",
      "https://we.akoam.net/download/4daa9c4ceb2e/Xenophobia-2019-1080p-WEB-DL-akoam-net-mkv\n",
      "فيلم Brightburn 2019 مترجم ...... http://go.akoam.net/5d48b16db0319\n",
      "https://we.akoam.net/download/49a6fdc411cf/Brightburn-2019-1080p-WEB-DL-akoam-net-mkv\n",
      "فيلم The Swan Princess Kingdom Of Music 2019 مترجم ...... http://go.akoam.net/5d48af15901c8\n",
      "https://we.akoam.net/download/3e3dafd552de/The-Swan-Princess-Kingdom-of-Music-2019-1080p-WEB-DL-akoam-net-mkv\n",
      "فيلم Finding Steve McQueen 2019 مترجم ...... http://go.akoam.net/5d48acbd9ebf6\n",
      "https://we.akoam.net/download/693c10b4efb0/Finding-Steve-McQueen-2019-720p-BluRay-akoam-net-mkv\n",
      "فيلم Unplanned 2019 مترجم ...... http://go.akoam.net/5d47dd51954ed\n",
      "https://we.akoam.net/download/d431ffd155f4/Unplanned-2019-720p-Bluray-akoam-net-mkv\n",
      "فيلم Luce 2019 مترجم HDCAM ...... http://go.akoam.net/5d463e79f0b39\n",
      "https://we.akoam.net/download/610df57230cc/Luce-2019-720p-HDCAM-akoam-net-mkv\n",
      "فيلم Tolkien 2019 مترجم ...... http://go.akoam.net/5d445e074be8d\n",
      "https://we.akoam.net/download/ef7c69bd3d78/Tolkien-2019-720p-Bluray-akoam-net-mkv\n",
      "فيلم Crystal’s Shadow 2019 مترجم ...... http://go.akoam.net/5d4456fcdaf2d\n",
      "https://we.akoam.net/download/72f2364a3e6a/Crystals-Shadow-2019-1080p-WEB-DL-akoam-net-mkv\n",
      "فيلم The Operative 2019 مترجم ...... http://go.akoam.net/5d443d315f989\n",
      "https://we.akoam.net/download/f851a5944ff2/The-Operative-2019-1080p-WEB-DL-akoam-net-mkv\n",
      "فيلم Airplane Mode 2019 مترجم ...... http://go.akoam.net/5d44362986552\n",
      "https://we.akoam.net/download/eed1911029d5/Airplane-Mode-2019-1080p-WEB-DL-akoam-net-mkv\n",
      "فيلم A Score To Settle 2019 مترجم ...... http://go.akoam.net/5d4432a60115a\n",
      "https://we.akoam.net/download/84eeb7b9b43e/A-Score-to-Settle-2019-1080p-WEB-DL-akoam-net-mkv\n",
      "فيلم Coyote Lake 2019 مترجم ...... http://go.akoam.net/5d44304e0a2e9\n",
      "https://we.akoam.net/download/10dffd6f3ea7/Coyote-Lake-2019-1080p-WEB-DL-akoam-net-mkv\n",
      "فيلم Otherhood 2019 مترجم ...... http://go.akoam.net/5d442df59f03c\n",
      "https://we.akoam.net/download/5533b4f71169/Otherhood-2019-1080p-WEB-DL-akoam-net-mkv\n",
      "فيلم Fast & Furious Presents: Hobbs & Shaw 2019 مترجم HDCAM ...... http://go.akoam.net/5d41e8be80e4b\n",
      "https://we.akoam.net/download/11ca07a57b2d/Hobbs-and-Shaw-2019-720p-HDCAM-akoam-net-mkv\n",
      "فيلم Cry Havoc 2019 مترجم ...... http://go.akoam.net/5d41e5377a1a2\n",
      "https://we.akoam.net/download/9a6e1166556c/Cry-Havoc-2017-HD720P-akoam-net-mkv\n",
      "فيلم The Ridiculous 6 2015 مترجم ...... http://go.akoam.net/5d41e1afd58ce\n",
      "https://we.akoam.net/download/44fa2398f884/The-Ridiculous-6-2015-720p-WEBRip-akoam-net-mkv\n"
     ]
    }
   ],
   "source": [
    "base_url = url\n",
    "for i in range(1):\n",
    "    print('start scarping ..... ', base_url)\n",
    "    request = requests.get(base_url) \n",
    "    content_soup = BeautifulSoup(request.content , 'html.parser')\n",
    "    scrap_home(content_soup)\n",
    "    a = content_soup.find('a' ,class_='ako-arrow ako-left-arrow').get('href')\n",
    "    base_url=a\n",
    "    for link in film_link_ls:\n",
    "        scrap_film(link)"
   ]
  },
  {
   "cell_type": "code",
   "execution_count": 6,
   "metadata": {},
   "outputs": [],
   "source": [
    "df = pd.DataFrame(films_link)"
   ]
  },
  {
   "cell_type": "code",
   "execution_count": 9,
   "metadata": {},
   "outputs": [],
   "source": [
    "df.head(10)\n",
    "df.to_csv('films_link.csv' ,index=False)"
   ]
  },
  {
   "cell_type": "code",
   "execution_count": 11,
   "metadata": {},
   "outputs": [],
   "source": [
    "df2 = pd.DataFrame(home_link)\n",
    "df2.head(10)\n",
    "df2.to_csv('home_links.csv' , index=False)"
   ]
  },
  {
   "cell_type": "code",
   "execution_count": 12,
   "metadata": {},
   "outputs": [
    {
     "data": {
      "text/html": [
       "<div>\n",
       "<style scoped>\n",
       "    .dataframe tbody tr th:only-of-type {\n",
       "        vertical-align: middle;\n",
       "    }\n",
       "\n",
       "    .dataframe tbody tr th {\n",
       "        vertical-align: top;\n",
       "    }\n",
       "\n",
       "    .dataframe thead th {\n",
       "        text-align: right;\n",
       "    }\n",
       "</style>\n",
       "<table border=\"1\" class=\"dataframe\">\n",
       "  <thead>\n",
       "    <tr style=\"text-align: right;\">\n",
       "      <th></th>\n",
       "      <th>film_details</th>\n",
       "      <th>film_image</th>\n",
       "      <th>film_link</th>\n",
       "      <th>film_name</th>\n",
       "    </tr>\n",
       "  </thead>\n",
       "  <tbody>\n",
       "    <tr>\n",
       "      <th>0</th>\n",
       "      <td>فيلم الاكشن و الاثارة Night Hunter 2018 مترجم ...</td>\n",
       "      <td>https://img.akoam.net/files/thumbs/1565378126.jpg</td>\n",
       "      <td>https://we.akoam.net/167080/فيلم-Night-Hunter-...</td>\n",
       "      <td>فيلم Night Hunter 2018 مترجم</td>\n",
       "    </tr>\n",
       "    <tr>\n",
       "      <th>1</th>\n",
       "      <td>فيلم الرعب و الدراما التاريخي Gwen 2018 مترجم ...</td>\n",
       "      <td>https://img.akoam.net/files/thumbs/1565360211.jpg</td>\n",
       "      <td>https://we.akoam.net/167051/فيلم-Gwen-2018-مترجم</td>\n",
       "      <td>فيلم Gwen 2018 مترجم</td>\n",
       "    </tr>\n",
       "    <tr>\n",
       "      <th>2</th>\n",
       "      <td>فيلم الدراما Light Of My Life 2019 مترجم بجودة...</td>\n",
       "      <td>https://img.akoam.net/files/thumbs/1565357269.jpg</td>\n",
       "      <td>https://we.akoam.net/167039/فيلم-Light-Of-My-L...</td>\n",
       "      <td>فيلم Light Of My Life 2019 مترجم</td>\n",
       "    </tr>\n",
       "    <tr>\n",
       "      <th>3</th>\n",
       "      <td>فيلم الاثارة Rapid Eye Movement 2019 مترجم بجو...</td>\n",
       "      <td>https://img.akoam.net/files/thumbs/1565352053.jpg</td>\n",
       "      <td>https://we.akoam.net/167035/فيلم-Rapid-Eye-Mov...</td>\n",
       "      <td>فيلم Rapid Eye Movement 2019 مترجم</td>\n",
       "    </tr>\n",
       "    <tr>\n",
       "      <th>4</th>\n",
       "      <td>فيلم الرعب و الخيال العلمي Nekrotronic 2018 مت...</td>\n",
       "      <td>https://img.akoam.net/files/thumbs/1565340859.jpg</td>\n",
       "      <td>https://we.akoam.net/167014/فيلم-Nekrotronic-2...</td>\n",
       "      <td>فيلم Nekrotronic 2018 مترجم</td>\n",
       "    </tr>\n",
       "  </tbody>\n",
       "</table>\n",
       "</div>"
      ],
      "text/plain": [
       "                                        film_details  \\\n",
       "0  فيلم الاكشن و الاثارة Night Hunter 2018 مترجم ...   \n",
       "1  فيلم الرعب و الدراما التاريخي Gwen 2018 مترجم ...   \n",
       "2  فيلم الدراما Light Of My Life 2019 مترجم بجودة...   \n",
       "3  فيلم الاثارة Rapid Eye Movement 2019 مترجم بجو...   \n",
       "4  فيلم الرعب و الخيال العلمي Nekrotronic 2018 مت...   \n",
       "\n",
       "                                          film_image  \\\n",
       "0  https://img.akoam.net/files/thumbs/1565378126.jpg   \n",
       "1  https://img.akoam.net/files/thumbs/1565360211.jpg   \n",
       "2  https://img.akoam.net/files/thumbs/1565357269.jpg   \n",
       "3  https://img.akoam.net/files/thumbs/1565352053.jpg   \n",
       "4  https://img.akoam.net/files/thumbs/1565340859.jpg   \n",
       "\n",
       "                                           film_link  \\\n",
       "0  https://we.akoam.net/167080/فيلم-Night-Hunter-...   \n",
       "1   https://we.akoam.net/167051/فيلم-Gwen-2018-مترجم   \n",
       "2  https://we.akoam.net/167039/فيلم-Light-Of-My-L...   \n",
       "3  https://we.akoam.net/167035/فيلم-Rapid-Eye-Mov...   \n",
       "4  https://we.akoam.net/167014/فيلم-Nekrotronic-2...   \n",
       "\n",
       "                            film_name  \n",
       "0        فيلم Night Hunter 2018 مترجم  \n",
       "1                فيلم Gwen 2018 مترجم  \n",
       "2    فيلم Light Of My Life 2019 مترجم  \n",
       "3  فيلم Rapid Eye Movement 2019 مترجم  \n",
       "4         فيلم Nekrotronic 2018 مترجم  "
      ]
     },
     "execution_count": 12,
     "metadata": {},
     "output_type": "execute_result"
    }
   ],
   "source": [
    "dff = pd.read_csv('data/home_links.csv')\n",
    "dff.head()"
   ]
  },
  {
   "cell_type": "code",
   "execution_count": null,
   "metadata": {},
   "outputs": [],
   "source": []
  }
 ],
 "metadata": {
  "kernelspec": {
   "display_name": "Python 3",
   "language": "python",
   "name": "python3"
  },
  "language_info": {
   "codemirror_mode": {
    "name": "ipython",
    "version": 3
   },
   "file_extension": ".py",
   "mimetype": "text/x-python",
   "name": "python",
   "nbconvert_exporter": "python",
   "pygments_lexer": "ipython3",
   "version": "3.7.3"
  }
 },
 "nbformat": 4,
 "nbformat_minor": 2
}
