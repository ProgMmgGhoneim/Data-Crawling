{
 "cells": [
  {
   "cell_type": "code",
   "execution_count": 12,
   "metadata": {},
   "outputs": [
    {
     "name": "stdout",
     "output_type": "stream",
     "text": [
      "Downloading to: 734be2b2-2317-4b2d-91f2-114a61783107.jpg\n",
      "Downloading to: GP021C0C2-E11@11.jpg\n",
      "Downloading to: WA221C0HH-Q11@16.jpg\n",
      "Downloading to: NOE21C00P-B11@10.jpg\n",
      "Downloading to: MO421C059-A11@9.jpg\n",
      "Downloading to: YA021C020-B11@14.jpg\n",
      "Downloading to: MOL21C014-E11@8.jpg\n",
      "Downloading to: WA221C0I8-K11@4.jpg\n",
      "Downloading to: Z1721C07C-K11@7.jpg\n",
      "Downloading to: WA221C0HT-T11@4.jpg\n",
      "Downloading to: WA221C0JH-T11@9.jpg\n",
      "Downloading to: WA221C0JC-A11@10.1.jpg\n",
      "Downloading to: AN621C14O-J11@5.jpg\n",
      "Downloading to: WA221C0HV-Q11@4.jpg\n",
      "Downloading to: OA221C0HE-Q11@9.jpg\n",
      "Downloading to: SU221C0EY-G11@18.jpg\n",
      "Downloading to: Y0121C0P6-I11@23.jpg\n",
      "Downloading to: AM221C01T-C11@10.jpg\n",
      "Downloading to: ZA821C07J-K11@10.jpg\n",
      "Downloading to: WA221C0J1-E11@16.jpg\n",
      "Downloading to: WA221C0JF-Q11@17.jpg\n",
      "Downloading to: Y0121C0LC-K11@4.jpg\n",
      "Downloading to: WA221C0GS-K11@11.jpg\n",
      "Downloading to: M3221C0T5-E11@10.jpg\n",
      "Downloading to: LS721C07P-K11@8.jpg\n",
      "Downloading to: WA221C0HF-E11@11.jpg\n",
      "Downloading to: VE121C1T3-A11@13.jpg\n",
      "Downloading to: PE121C0E5-T11@4.1.jpg\n",
      "Downloading to: IV321C04E-M11@24.jpg\n",
      "Downloading to: IV321C044-E11@51.jpg\n",
      "Downloading to: RI921C0H8-E11@4.jpg\n",
      "Downloading to: M3221C0R3-G11@8.jpg\n",
      "Downloading to: DP521C1XM-Q11@4.jpg\n"
     ]
    }
   ],
   "source": [
    "import requests\n",
    "import os, os.path\n",
    "from bs4 import BeautifulSoup\n",
    "from urllib.parse import urljoin, urlparse\n",
    "store = 'images'\n",
    "if not os.path.exists(store):\n",
    "    os.makedirs(store)\n",
    "url = 'https://www.zalando.co.uk/womens-clothing-dresses/'\n",
    "def download(url):\n",
    "    r = requests.get(url, stream=True)\n",
    "    filename = urlparse(url).path.split('/')[-1]\n",
    "    print('Downloading to:', filename)\n",
    "    with open(os.path.join(store, filename), 'wb') as the_image:\n",
    "        for byte_chunk in r.iter_content(chunk_size=4096*4):\n",
    "            the_image.write(byte_chunk)\n",
    "headers = {'User-Agent': 'Mozilla/5.0 (Macintosh; Intel Mac OS X 10_11_6) AppleWebKit/537.36 (KHTML, like Gecko) Chrome/61.0.3163.100 Safari/537.36'}\n",
    "for i in range(3):\n",
    "    request = requests.get(url , headers =headers ,params={'p':i}) \n",
    "    html_soup = BeautifulSoup(request.content , 'html.parser')   \n",
    "    for image in html_soup.select('#z-nvg-cognac-root z-grid-item img'):\n",
    "        img_src = image.get('src')\n",
    "        download(img_src)\n",
    "    \n"
   ]
  },
  {
   "cell_type": "code",
   "execution_count": null,
   "metadata": {},
   "outputs": [],
   "source": []
  }
 ],
 "metadata": {
  "kernelspec": {
   "display_name": "Python 3",
   "language": "python",
   "name": "python3"
  },
  "language_info": {
   "codemirror_mode": {
    "name": "ipython",
    "version": 3
   },
   "file_extension": ".py",
   "mimetype": "text/x-python",
   "name": "python",
   "nbconvert_exporter": "python",
   "pygments_lexer": "ipython3",
   "version": "3.7.3"
  }
 },
 "nbformat": 4,
 "nbformat_minor": 2
}
